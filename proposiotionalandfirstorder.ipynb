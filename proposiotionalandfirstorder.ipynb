{
  "nbformat": 4,
  "nbformat_minor": 0,
  "metadata": {
    "colab": {
      "provenance": [],
      "gpuType": "T4"
    },
    "kernelspec": {
      "name": "python3",
      "display_name": "Python 3"
    },
    "language_info": {
      "name": "python"
    },
    "accelerator": "GPU"
  },
  "cells": [
    {
      "cell_type": "code",
      "source": [
        "!pip install sympy logicpy nltk"
      ],
      "metadata": {
        "colab": {
          "base_uri": "https://localhost:8080/"
        },
        "id": "j3PpASI4Zaem",
        "outputId": "503bcaa9-9cdf-4993-bc46-0146f50a6896"
      },
      "execution_count": null,
      "outputs": [
        {
          "output_type": "stream",
          "name": "stdout",
          "text": [
            "Requirement already satisfied: sympy in /usr/local/lib/python3.11/dist-packages (1.13.1)\n",
            "Requirement already satisfied: logicpy in /usr/local/lib/python3.11/dist-packages (0.0.1)\n",
            "Requirement already satisfied: nltk in /usr/local/lib/python3.11/dist-packages (3.9.1)\n",
            "Requirement already satisfied: mpmath<1.4,>=1.1.0 in /usr/local/lib/python3.11/dist-packages (from sympy) (1.3.0)\n",
            "Requirement already satisfied: click in /usr/local/lib/python3.11/dist-packages (from nltk) (8.1.8)\n",
            "Requirement already satisfied: joblib in /usr/local/lib/python3.11/dist-packages (from nltk) (1.4.2)\n",
            "Requirement already satisfied: regex>=2021.8.3 in /usr/local/lib/python3.11/dist-packages (from nltk) (2024.11.6)\n",
            "Requirement already satisfied: tqdm in /usr/local/lib/python3.11/dist-packages (from nltk) (4.67.1)\n"
          ]
        }
      ]
    },
    {
      "cell_type": "code",
      "source": [
        "import sympy as sp\n",
        "\n",
        "# Definisi simbol proposisional\n",
        "P, Q, R = sp.symbols('P Q R')\n",
        "\n",
        "# Contoh proposisi logika\n",
        "expr1 = P & Q  # Konjungsi (AND)\n",
        "expr2 = P | Q  # Disjungsi (OR)\n",
        "expr3 = ~P     # Negasi (NOT)\n",
        "expr4 = P >> Q # Implikasi (IF P THEN Q)\n",
        "expr5 = P ^ Q  # XOR (Exclusive OR)\n",
        "\n",
        "# Evaluasi ekspresi logika\n",
        "values = {P: True, Q: False}\n",
        "results = {\n",
        "    \"P AND Q\": expr1.subs(values),\n",
        "    \"P OR Q\": expr2.subs(values),\n",
        "    \"NOT P\": expr3.subs(values),\n",
        "    \"P => Q\": expr4.subs(values),\n",
        "    \"P XOR Q\": expr5.subs(values),\n",
        "}\n",
        "\n",
        "# Menampilkan hasil evaluasi\n",
        "for key, value in results.items():\n",
        "    print(f\"{key}: {value}\")\n"
      ],
      "metadata": {
        "colab": {
          "base_uri": "https://localhost:8080/"
        },
        "id": "h6BvnEYGbx1i",
        "outputId": "e8e3f209-94a3-41b7-c196-8d35fe938e02"
      },
      "execution_count": null,
      "outputs": [
        {
          "output_type": "stream",
          "name": "stdout",
          "text": [
            "P AND Q: False\n",
            "P OR Q: True\n",
            "NOT P: False\n",
            "P => Q: False\n",
            "P XOR Q: True\n"
          ]
        }
      ]
    },
    {
      "cell_type": "code",
      "source": [
        "from nltk.sem import Expression\n",
        "from nltk.inference import ResolutionProver\n",
        "\n",
        "read_expr = Expression.fromstring\n",
        "\n",
        "# Mendefinisikan premis dan kesimpulan\n",
        "premises = [\n",
        "    read_expr('all x. (human(x) -> mortal(x))'),  # Semua manusia adalah mortal\n",
        "    read_expr('human(Socrates)')                 # Socrates adalah manusia\n",
        "]\n",
        "\n",
        "conclusion = read_expr('mortal(Socrates)')  # Apakah Socrates mortal?\n",
        "\n",
        "# Pembuktian menggunakan Resolution Prover\n",
        "proof = ResolutionProver().prove(conclusion, premises)\n",
        "\n",
        "print(\"Apakah Socrates mortal?\", proof)\n"
      ],
      "metadata": {
        "colab": {
          "base_uri": "https://localhost:8080/"
        },
        "id": "LpBVacwydUYt",
        "outputId": "f537b0d7-3ba2-4828-c7a7-4c8e570ebf3e"
      },
      "execution_count": null,
      "outputs": [
        {
          "output_type": "stream",
          "name": "stdout",
          "text": [
            "Apakah Socrates mortal? True\n"
          ]
        }
      ]
    }
  ]
}